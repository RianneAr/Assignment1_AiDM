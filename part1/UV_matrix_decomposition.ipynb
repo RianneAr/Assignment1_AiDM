{
 "cells": [
  {
   "cell_type": "code",
   "execution_count": 3,
   "id": "d87a8329",
   "metadata": {},
   "outputs": [
    {
     "name": "stderr",
     "output_type": "stream",
     "text": [
      "C:\\Users\\rolaa\\anaconda3\\lib\\site-packages\\pandas\\util\\_decorators.py:311: ParserWarning: Falling back to the 'python' engine because the 'c' engine does not support regex separators (separators > 1 char and different from '\\s+' are interpreted as regex); you can avoid this warning by specifying engine='python'.\n",
      "  return func(*args, **kwargs)\n"
     ]
    }
   ],
   "source": [
    "import numpy as np\n",
    "import pandas as pd\n",
    "import math\n",
    "from sklearn.model_selection import train_test_split, KFold\n",
    "from sklearn.metrics import mean_squared_error, mean_absolute_error\n",
    "\n",
    "users = pd.read_table('ml-1m/users.dat',  sep = '::', header = None, names= ['ID', 'Gender', 'Age', 'Occupation', 'Zip-code'])\n",
    "ratings = pd.read_table('ml-1m/ratings.dat',  sep = '::', header = None, names= ['UserID', 'MovieID', 'Rating', 'Timestamp'])\n",
    "#movies = pd.read_table('ml-1m/movies.dat',  sep = '::', header = None, names= ['ID', 'Title', 'Genre'])"
   ]
  },
  {
   "cell_type": "code",
   "execution_count": 4,
   "id": "e6a8fb94",
   "metadata": {},
   "outputs": [
    {
     "name": "stdout",
     "output_type": "stream",
     "text": [
      "[ 200042  200043  200044 ... 1000206 1000207 1000208] [     0      1      2 ... 200039 200040 200041]\n",
      "[      0       1       2 ... 1000206 1000207 1000208] [200042 200043 200044 ... 400081 400082 400083]\n",
      "[      0       1       2 ... 1000206 1000207 1000208] [400084 400085 400086 ... 600123 600124 600125]\n",
      "[      0       1       2 ... 1000206 1000207 1000208] [600126 600127 600128 ... 800165 800166 800167]\n",
      "[     0      1      2 ... 800165 800166 800167] [ 800168  800169  800170 ... 1000206 1000207 1000208]\n"
     ]
    }
   ],
   "source": [
    "kf = KFold(n_splits = 5)\n",
    "for train, test in kf.split(ratings):\n",
    "    print(train, test)"
   ]
  },
  {
   "cell_type": "code",
   "execution_count": 18,
   "id": "f41214ff",
   "metadata": {},
   "outputs": [
    {
     "name": "stdout",
     "output_type": "stream",
     "text": [
      "[[1.33820112 1.33820112]\n",
      " [1.33820112 1.33820112]\n",
      " [1.33820112 1.33820112]\n",
      " ...\n",
      " [1.33820112 1.33820112]\n",
      " [1.33820112 1.33820112]\n",
      " [1.33820112 1.33820112]]\n"
     ]
    }
   ],
   "source": [
    "d = 2\n",
    "\n",
    "utility_matrix = ratings.pivot(index = \"UserID\", columns = \"MovieID\", values = \"Rating\")\n",
    "a = utility_matrix.stack().mean(skipna = True)\n",
    "\n",
    "U = np.full([utility_matrix.shape[0],d], np.sqrt(a/d))\n",
    "V = np.full([d,utility_matrix.shape[1]], np.sqrt(a/d))\n",
    "matrix = np.dot(U,V)\n",
    "\n",
    "\n",
    "\n",
    "#print(matrix.shape)\n",
    "#print(utility_matrix.shape)\n",
    "#print(utility_matrix)\n",
    "#print(ratings[ratings[\"UserID\"]==1].sort_values(\"MovieID\"))\n",
    "#print(utility_matrix.iloc[0,:].dropna())"
   ]
  }
 ],
 "metadata": {
  "kernelspec": {
   "display_name": "Python 3 (ipykernel)",
   "language": "python",
   "name": "python3"
  },
  "language_info": {
   "codemirror_mode": {
    "name": "ipython",
    "version": 3
   },
   "file_extension": ".py",
   "mimetype": "text/x-python",
   "name": "python",
   "nbconvert_exporter": "python",
   "pygments_lexer": "ipython3",
   "version": "3.9.7"
  }
 },
 "nbformat": 4,
 "nbformat_minor": 5
}
