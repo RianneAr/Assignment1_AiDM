{
 "cells": [
  {
   "cell_type": "code",
   "execution_count": 44,
   "id": "f27ffe53",
   "metadata": {},
   "outputs": [],
   "source": [
    "import numpy as np\n",
    "\n",
    "users = np.genfromtxt('ml-1m/users.dat',  delimiter = '::', dtype = None, encoding = None, names= ('ID', 'Gender', 'Age', 'Occupation', 'Zip-code'))\n",
    "ratings = np.genfromtxt('ml-1m/ratings.dat',  delimiter = '::', dtype = None, encoding = None, names= ('UserID', 'MovieID', 'Rating', 'Timestamp'\n",
    "))\n",
    "# movies = np.genfromtxt('ml-1m/movies.dat',  delimiter = '::', dtype = None, encoding = None, names= ('ID', 'Title', 'Genre'))"
   ]
  },
  {
   "cell_type": "code",
   "execution_count": 53,
   "id": "4c10897a",
   "metadata": {},
   "outputs": [
    {
     "name": "stdout",
     "output_type": "stream",
     "text": [
      "[(1, 1193, 978300760) (1,  661, 978302109) (1,  914, 978301968)\n",
      " (1, 3408, 978300275) (1, 2355, 978824291)] [5 3 3 4 5]\n"
     ]
    }
   ],
   "source": [
    "X = ratings[['UserID','MovieID','Timestamp']]\n",
    "y = ratings['Rating']\n",
    "\n",
    "print (X[:5], y[:5])"
   ]
  },
  {
   "cell_type": "code",
   "execution_count": 54,
   "id": "2dbd76cc",
   "metadata": {},
   "outputs": [],
   "source": [
    "from sklearn.model_selection import train_test_split\n",
    "X_train, X_test, y_train, y_test = train_test_split(X, y, test_size=0.2, random_state=0)"
   ]
  },
  {
   "cell_type": "code",
   "execution_count": 56,
   "id": "6519460c",
   "metadata": {},
   "outputs": [
    {
     "name": "stdout",
     "output_type": "stream",
     "text": [
      "[( 253, 3418, 976688190) ( 935, 1954, 976669675) (2029, 3034, 974670594)\n",
      " (2098,  356, 974652753) (3463, 1240, 967174968)] [4 1 4 5 1]\n"
     ]
    }
   ],
   "source": []
  },
  {
   "cell_type": "code",
   "execution_count": null,
   "id": "1f02fd05",
   "metadata": {},
   "outputs": [],
   "source": []
  }
 ],
 "metadata": {
  "kernelspec": {
   "display_name": "Python 3 (ipykernel)",
   "language": "python",
   "name": "python3"
  },
  "language_info": {
   "codemirror_mode": {
    "name": "ipython",
    "version": 3
   },
   "file_extension": ".py",
   "mimetype": "text/x-python",
   "name": "python",
   "nbconvert_exporter": "python",
   "pygments_lexer": "ipython3",
   "version": "3.9.7"
  }
 },
 "nbformat": 4,
 "nbformat_minor": 5
}
