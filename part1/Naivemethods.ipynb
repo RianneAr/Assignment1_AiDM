{
 "cells": [
  {
   "cell_type": "code",
<<<<<<< HEAD
   "execution_count": 47,
   "id": "31de8fa9",
   "metadata": {},
   "outputs": [],
=======
   "execution_count": 6,
   "id": "31de8fa9",
   "metadata": {},
   "outputs": [
    {
     "name": "stderr",
     "output_type": "stream",
     "text": [
      "C:\\Users\\riann\\anaconda3\\lib\\site-packages\\pandas\\util\\_decorators.py:311: ParserWarning: Falling back to the 'python' engine because the 'c' engine does not support regex separators (separators > 1 char and different from '\\s+' are interpreted as regex); you can avoid this warning by specifying engine='python'.\n",
      "  return func(*args, **kwargs)\n"
     ]
    }
   ],
>>>>>>> 54c39a9b9f13390be93d05575020eb27589e0ee3
   "source": [
    "import numpy as np\n",
    "import pandas as pd\n",
    "import math\n",
    "from sklearn.model_selection import train_test_split, KFold\n",
    "from sklearn.metrics import mean_squared_error, mean_absolute_error\n",
<<<<<<< HEAD
    "from sklearn.linear_model import LinearRegression\n",
    "\n",
    "users = pd.read_table('ml-1m/users.dat',  sep = '::', engine = 'python', header = None, names= ['ID', 'Gender', 'Age', 'Occupation', 'Zip-code'])\n",
    "ratings = pd.read_table('ml-1m/ratings.dat',  sep = '::', engine = 'python', header = None, names= ['UserID', 'MovieID', 'Rating', 'Timestamp'])\n",
=======
    "\n",
    "users = pd.read_table('ml-1m/users.dat',  sep = '::', header = None, names= ['ID', 'Gender', 'Age', 'Occupation', 'Zip-code'])\n",
    "ratings = pd.read_table('ml-1m/ratings.dat',  sep = '::', header = None, names= ['UserID', 'MovieID', 'Rating', 'Timestamp'])\n",
>>>>>>> 54c39a9b9f13390be93d05575020eb27589e0ee3
    "#movies = pd.read_table('ml-1m/movies.dat',  sep = '::', header = None, names= ['ID', 'Title', 'Genre'])"
   ]
  },
  {
   "cell_type": "code",
<<<<<<< HEAD
   "execution_count": 48,
=======
   "execution_count": 7,
>>>>>>> 54c39a9b9f13390be93d05575020eb27589e0ee3
   "id": "50bc20e1",
   "metadata": {},
   "outputs": [
    {
     "name": "stdout",
     "output_type": "stream",
     "text": [
      "[ 200042  200043  200044 ... 1000206 1000207 1000208] [     0      1      2 ... 200039 200040 200041]\n",
      "[      0       1       2 ... 1000206 1000207 1000208] [200042 200043 200044 ... 400081 400082 400083]\n",
      "[      0       1       2 ... 1000206 1000207 1000208] [400084 400085 400086 ... 600123 600124 600125]\n",
      "[      0       1       2 ... 1000206 1000207 1000208] [600126 600127 600128 ... 800165 800166 800167]\n",
      "[     0      1      2 ... 800165 800166 800167] [ 800168  800169  800170 ... 1000206 1000207 1000208]\n"
     ]
    }
   ],
   "source": [
    "kf = KFold(n_splits = 5)\n",
    "for train, test in kf.split(ratings):\n",
    "    print(train, test)"
   ]
  },
  {
   "cell_type": "code",
<<<<<<< HEAD
   "execution_count": null,
   "id": "ef713038",
   "metadata": {},
   "outputs": [],
=======
   "execution_count": 21,
   "id": "ef713038",
   "metadata": {},
   "outputs": [
    {
     "name": "stderr",
     "output_type": "stream",
     "text": [
      "IOPub data rate exceeded.\n",
      "The notebook server will temporarily stop sending output\n",
      "to the client in order to avoid crashing it.\n",
      "To change this limit, set the config variable\n",
      "`--NotebookApp.iopub_data_rate_limit`.\n",
      "\n",
      "Current values:\n",
      "NotebookApp.iopub_data_rate_limit=1000000.0 (bytes/sec)\n",
      "NotebookApp.rate_limit_window=3.0 (secs)\n",
      "\n",
      "C:\\Users\\riann\\anaconda3\\lib\\site-packages\\numpy\\core\\_asarray.py:102: VisibleDeprecationWarning: Creating an ndarray from ragged nested sequences (which is a list-or-tuple of lists-or-tuples-or ndarrays with different lengths or shapes) is deprecated. If you meant to do this, you must specify 'dtype=object' when creating the ndarray.\n",
      "  return array(a, dtype, copy=False, order=order)\n",
      "C:\\Users\\riann\\anaconda3\\lib\\site-packages\\sklearn\\utils\\validation.py:63: FutureWarning: Arrays of bytes/strings is being converted to decimal numbers if dtype='numeric'. This behavior is deprecated in 0.24 and will be removed in 1.1 (renaming of 0.26). Please convert your data to numeric values explicitly instead.\n",
      "  return f(*args, **kwargs)\n"
     ]
    },
    {
     "ename": "ValueError",
     "evalue": "Unable to convert array of bytes/strings into decimal numbers with dtype='numeric'",
     "output_type": "error",
     "traceback": [
      "\u001b[1;31m---------------------------------------------------------------------------\u001b[0m",
      "\u001b[1;31mTypeError\u001b[0m                                 Traceback (most recent call last)",
      "\u001b[1;31mTypeError\u001b[0m: float() argument must be a string or a number, not 'DataFrame'",
      "\nThe above exception was the direct cause of the following exception:\n",
      "\u001b[1;31mValueError\u001b[0m                                Traceback (most recent call last)",
      "\u001b[1;32m~\\anaconda3\\lib\\site-packages\\sklearn\\utils\\validation.py\u001b[0m in \u001b[0;36mcheck_array\u001b[1;34m(array, accept_sparse, accept_large_sparse, dtype, order, copy, force_all_finite, ensure_2d, allow_nd, ensure_min_samples, ensure_min_features, estimator)\u001b[0m\n\u001b[0;32m    709\u001b[0m             \u001b[1;32mtry\u001b[0m\u001b[1;33m:\u001b[0m\u001b[1;33m\u001b[0m\u001b[1;33m\u001b[0m\u001b[0m\n\u001b[1;32m--> 710\u001b[1;33m                 \u001b[0marray\u001b[0m \u001b[1;33m=\u001b[0m \u001b[0marray\u001b[0m\u001b[1;33m.\u001b[0m\u001b[0mastype\u001b[0m\u001b[1;33m(\u001b[0m\u001b[0mnp\u001b[0m\u001b[1;33m.\u001b[0m\u001b[0mfloat64\u001b[0m\u001b[1;33m)\u001b[0m\u001b[1;33m\u001b[0m\u001b[1;33m\u001b[0m\u001b[0m\n\u001b[0m\u001b[0;32m    711\u001b[0m             \u001b[1;32mexcept\u001b[0m \u001b[0mValueError\u001b[0m \u001b[1;32mas\u001b[0m \u001b[0me\u001b[0m\u001b[1;33m:\u001b[0m\u001b[1;33m\u001b[0m\u001b[1;33m\u001b[0m\u001b[0m\n",
      "\u001b[1;31mValueError\u001b[0m: setting an array element with a sequence.",
      "\nThe above exception was the direct cause of the following exception:\n",
      "\u001b[1;31mValueError\u001b[0m                                Traceback (most recent call last)",
      "\u001b[1;32m~\\AppData\\Local\\Temp/ipykernel_7104/1700983325.py\u001b[0m in \u001b[0;36m<module>\u001b[1;34m\u001b[0m\n\u001b[0;32m     33\u001b[0m     \u001b[0mmaeglobalavg\u001b[0m\u001b[1;33m.\u001b[0m\u001b[0mappend\u001b[0m\u001b[1;33m(\u001b[0m\u001b[0mmean_absolute_error\u001b[0m\u001b[1;33m(\u001b[0m\u001b[0mratings\u001b[0m\u001b[1;33m[\u001b[0m\u001b[1;34m'Rating'\u001b[0m\u001b[1;33m]\u001b[0m\u001b[1;33m[\u001b[0m\u001b[0mtestid\u001b[0m\u001b[1;33m]\u001b[0m\u001b[1;33m,\u001b[0m \u001b[0mglobal_avg_pred\u001b[0m\u001b[1;33m)\u001b[0m\u001b[1;33m)\u001b[0m\u001b[1;33m\u001b[0m\u001b[1;33m\u001b[0m\u001b[0m\n\u001b[0;32m     34\u001b[0m \u001b[1;33m\u001b[0m\u001b[0m\n\u001b[1;32m---> 35\u001b[1;33m     \u001b[0mrmseuseravg\u001b[0m\u001b[1;33m.\u001b[0m\u001b[0mappend\u001b[0m\u001b[1;33m(\u001b[0m\u001b[0mmath\u001b[0m\u001b[1;33m.\u001b[0m\u001b[0msqrt\u001b[0m\u001b[1;33m(\u001b[0m\u001b[0mmean_squared_error\u001b[0m\u001b[1;33m(\u001b[0m\u001b[0mratings\u001b[0m\u001b[1;33m[\u001b[0m\u001b[1;34m'Rating'\u001b[0m\u001b[1;33m]\u001b[0m\u001b[1;33m[\u001b[0m\u001b[0mtestid\u001b[0m\u001b[1;33m]\u001b[0m\u001b[1;33m,\u001b[0m \u001b[0muser_avg_pred\u001b[0m\u001b[1;33m)\u001b[0m\u001b[1;33m)\u001b[0m\u001b[1;33m)\u001b[0m\u001b[1;33m\u001b[0m\u001b[1;33m\u001b[0m\u001b[0m\n\u001b[0m\u001b[0;32m     36\u001b[0m     \u001b[0mmaeuseravg\u001b[0m\u001b[1;33m.\u001b[0m\u001b[0mappend\u001b[0m\u001b[1;33m(\u001b[0m\u001b[0mmean_absolute_error\u001b[0m\u001b[1;33m(\u001b[0m\u001b[0mratings\u001b[0m\u001b[1;33m[\u001b[0m\u001b[1;34m'Rating'\u001b[0m\u001b[1;33m]\u001b[0m\u001b[1;33m[\u001b[0m\u001b[0mtestid\u001b[0m\u001b[1;33m]\u001b[0m\u001b[1;33m,\u001b[0m \u001b[0muser_avg_pred\u001b[0m\u001b[1;33m)\u001b[0m\u001b[1;33m)\u001b[0m\u001b[1;33m\u001b[0m\u001b[1;33m\u001b[0m\u001b[0m\n\u001b[0;32m     37\u001b[0m \u001b[1;33m\u001b[0m\u001b[0m\n",
      "\u001b[1;32m~\\anaconda3\\lib\\site-packages\\sklearn\\utils\\validation.py\u001b[0m in \u001b[0;36minner_f\u001b[1;34m(*args, **kwargs)\u001b[0m\n\u001b[0;32m     61\u001b[0m             \u001b[0mextra_args\u001b[0m \u001b[1;33m=\u001b[0m \u001b[0mlen\u001b[0m\u001b[1;33m(\u001b[0m\u001b[0margs\u001b[0m\u001b[1;33m)\u001b[0m \u001b[1;33m-\u001b[0m \u001b[0mlen\u001b[0m\u001b[1;33m(\u001b[0m\u001b[0mall_args\u001b[0m\u001b[1;33m)\u001b[0m\u001b[1;33m\u001b[0m\u001b[1;33m\u001b[0m\u001b[0m\n\u001b[0;32m     62\u001b[0m             \u001b[1;32mif\u001b[0m \u001b[0mextra_args\u001b[0m \u001b[1;33m<=\u001b[0m \u001b[1;36m0\u001b[0m\u001b[1;33m:\u001b[0m\u001b[1;33m\u001b[0m\u001b[1;33m\u001b[0m\u001b[0m\n\u001b[1;32m---> 63\u001b[1;33m                 \u001b[1;32mreturn\u001b[0m \u001b[0mf\u001b[0m\u001b[1;33m(\u001b[0m\u001b[1;33m*\u001b[0m\u001b[0margs\u001b[0m\u001b[1;33m,\u001b[0m \u001b[1;33m**\u001b[0m\u001b[0mkwargs\u001b[0m\u001b[1;33m)\u001b[0m\u001b[1;33m\u001b[0m\u001b[1;33m\u001b[0m\u001b[0m\n\u001b[0m\u001b[0;32m     64\u001b[0m \u001b[1;33m\u001b[0m\u001b[0m\n\u001b[0;32m     65\u001b[0m             \u001b[1;31m# extra_args > 0\u001b[0m\u001b[1;33m\u001b[0m\u001b[1;33m\u001b[0m\u001b[0m\n",
      "\u001b[1;32m~\\anaconda3\\lib\\site-packages\\sklearn\\metrics\\_regression.py\u001b[0m in \u001b[0;36mmean_squared_error\u001b[1;34m(y_true, y_pred, sample_weight, multioutput, squared)\u001b[0m\n\u001b[0;32m    333\u001b[0m     \u001b[1;36m0.825\u001b[0m\u001b[1;33m...\u001b[0m\u001b[1;33m\u001b[0m\u001b[1;33m\u001b[0m\u001b[0m\n\u001b[0;32m    334\u001b[0m     \"\"\"\n\u001b[1;32m--> 335\u001b[1;33m     y_type, y_true, y_pred, multioutput = _check_reg_targets(\n\u001b[0m\u001b[0;32m    336\u001b[0m         y_true, y_pred, multioutput)\n\u001b[0;32m    337\u001b[0m     \u001b[0mcheck_consistent_length\u001b[0m\u001b[1;33m(\u001b[0m\u001b[0my_true\u001b[0m\u001b[1;33m,\u001b[0m \u001b[0my_pred\u001b[0m\u001b[1;33m,\u001b[0m \u001b[0msample_weight\u001b[0m\u001b[1;33m)\u001b[0m\u001b[1;33m\u001b[0m\u001b[1;33m\u001b[0m\u001b[0m\n",
      "\u001b[1;32m~\\anaconda3\\lib\\site-packages\\sklearn\\metrics\\_regression.py\u001b[0m in \u001b[0;36m_check_reg_targets\u001b[1;34m(y_true, y_pred, multioutput, dtype)\u001b[0m\n\u001b[0;32m     88\u001b[0m     \u001b[0mcheck_consistent_length\u001b[0m\u001b[1;33m(\u001b[0m\u001b[0my_true\u001b[0m\u001b[1;33m,\u001b[0m \u001b[0my_pred\u001b[0m\u001b[1;33m)\u001b[0m\u001b[1;33m\u001b[0m\u001b[1;33m\u001b[0m\u001b[0m\n\u001b[0;32m     89\u001b[0m     \u001b[0my_true\u001b[0m \u001b[1;33m=\u001b[0m \u001b[0mcheck_array\u001b[0m\u001b[1;33m(\u001b[0m\u001b[0my_true\u001b[0m\u001b[1;33m,\u001b[0m \u001b[0mensure_2d\u001b[0m\u001b[1;33m=\u001b[0m\u001b[1;32mFalse\u001b[0m\u001b[1;33m,\u001b[0m \u001b[0mdtype\u001b[0m\u001b[1;33m=\u001b[0m\u001b[0mdtype\u001b[0m\u001b[1;33m)\u001b[0m\u001b[1;33m\u001b[0m\u001b[1;33m\u001b[0m\u001b[0m\n\u001b[1;32m---> 90\u001b[1;33m     \u001b[0my_pred\u001b[0m \u001b[1;33m=\u001b[0m \u001b[0mcheck_array\u001b[0m\u001b[1;33m(\u001b[0m\u001b[0my_pred\u001b[0m\u001b[1;33m,\u001b[0m \u001b[0mensure_2d\u001b[0m\u001b[1;33m=\u001b[0m\u001b[1;32mFalse\u001b[0m\u001b[1;33m,\u001b[0m \u001b[0mdtype\u001b[0m\u001b[1;33m=\u001b[0m\u001b[0mdtype\u001b[0m\u001b[1;33m)\u001b[0m\u001b[1;33m\u001b[0m\u001b[1;33m\u001b[0m\u001b[0m\n\u001b[0m\u001b[0;32m     91\u001b[0m \u001b[1;33m\u001b[0m\u001b[0m\n\u001b[0;32m     92\u001b[0m     \u001b[1;32mif\u001b[0m \u001b[0my_true\u001b[0m\u001b[1;33m.\u001b[0m\u001b[0mndim\u001b[0m \u001b[1;33m==\u001b[0m \u001b[1;36m1\u001b[0m\u001b[1;33m:\u001b[0m\u001b[1;33m\u001b[0m\u001b[1;33m\u001b[0m\u001b[0m\n",
      "\u001b[1;32m~\\anaconda3\\lib\\site-packages\\sklearn\\utils\\validation.py\u001b[0m in \u001b[0;36minner_f\u001b[1;34m(*args, **kwargs)\u001b[0m\n\u001b[0;32m     61\u001b[0m             \u001b[0mextra_args\u001b[0m \u001b[1;33m=\u001b[0m \u001b[0mlen\u001b[0m\u001b[1;33m(\u001b[0m\u001b[0margs\u001b[0m\u001b[1;33m)\u001b[0m \u001b[1;33m-\u001b[0m \u001b[0mlen\u001b[0m\u001b[1;33m(\u001b[0m\u001b[0mall_args\u001b[0m\u001b[1;33m)\u001b[0m\u001b[1;33m\u001b[0m\u001b[1;33m\u001b[0m\u001b[0m\n\u001b[0;32m     62\u001b[0m             \u001b[1;32mif\u001b[0m \u001b[0mextra_args\u001b[0m \u001b[1;33m<=\u001b[0m \u001b[1;36m0\u001b[0m\u001b[1;33m:\u001b[0m\u001b[1;33m\u001b[0m\u001b[1;33m\u001b[0m\u001b[0m\n\u001b[1;32m---> 63\u001b[1;33m                 \u001b[1;32mreturn\u001b[0m \u001b[0mf\u001b[0m\u001b[1;33m(\u001b[0m\u001b[1;33m*\u001b[0m\u001b[0margs\u001b[0m\u001b[1;33m,\u001b[0m \u001b[1;33m**\u001b[0m\u001b[0mkwargs\u001b[0m\u001b[1;33m)\u001b[0m\u001b[1;33m\u001b[0m\u001b[1;33m\u001b[0m\u001b[0m\n\u001b[0m\u001b[0;32m     64\u001b[0m \u001b[1;33m\u001b[0m\u001b[0m\n\u001b[0;32m     65\u001b[0m             \u001b[1;31m# extra_args > 0\u001b[0m\u001b[1;33m\u001b[0m\u001b[1;33m\u001b[0m\u001b[0m\n",
      "\u001b[1;32m~\\anaconda3\\lib\\site-packages\\sklearn\\utils\\validation.py\u001b[0m in \u001b[0;36mcheck_array\u001b[1;34m(array, accept_sparse, accept_large_sparse, dtype, order, copy, force_all_finite, ensure_2d, allow_nd, ensure_min_samples, ensure_min_features, estimator)\u001b[0m\n\u001b[0;32m    710\u001b[0m                 \u001b[0marray\u001b[0m \u001b[1;33m=\u001b[0m \u001b[0marray\u001b[0m\u001b[1;33m.\u001b[0m\u001b[0mastype\u001b[0m\u001b[1;33m(\u001b[0m\u001b[0mnp\u001b[0m\u001b[1;33m.\u001b[0m\u001b[0mfloat64\u001b[0m\u001b[1;33m)\u001b[0m\u001b[1;33m\u001b[0m\u001b[1;33m\u001b[0m\u001b[0m\n\u001b[0;32m    711\u001b[0m             \u001b[1;32mexcept\u001b[0m \u001b[0mValueError\u001b[0m \u001b[1;32mas\u001b[0m \u001b[0me\u001b[0m\u001b[1;33m:\u001b[0m\u001b[1;33m\u001b[0m\u001b[1;33m\u001b[0m\u001b[0m\n\u001b[1;32m--> 712\u001b[1;33m                 raise ValueError(\n\u001b[0m\u001b[0;32m    713\u001b[0m                     \u001b[1;34m\"Unable to convert array of bytes/strings \"\u001b[0m\u001b[1;33m\u001b[0m\u001b[1;33m\u001b[0m\u001b[0m\n\u001b[0;32m    714\u001b[0m                     \"into decimal numbers with dtype='numeric'\") from e\n",
      "\u001b[1;31mValueError\u001b[0m: Unable to convert array of bytes/strings into decimal numbers with dtype='numeric'"
     ]
    }
   ],
>>>>>>> 54c39a9b9f13390be93d05575020eb27589e0ee3
   "source": [
    "rmseglobalavg = []\n",
    "maeglobalavg = []\n",
    "rmseuseravg = []\n",
    "maeuseravg = []\n",
    "rmseitemavg = []\n",
    "maeitemavg = []\n",
    "\n",
    "for trainid, testid in kf.split(ratings):\n",
<<<<<<< HEAD
    "    \n",
    "    X_train = ratings[['UserID','MovieID']].iloc[trainid]\n",
    "    X_test = ratings[['UserID','MovieID']].iloc[testid]\n",
    "    y_train = ratings['Rating'].iloc[trainid]\n",
    "    y_test = ratings['Rating'].iloc[testid].to_numpy()[:500]\n",
    "    \n",
    "    global_avg = ratings['Rating'].iloc[trainid].mean()\n",
=======
    "    global_avg = ratings['Rating'][trainid].mean()\n",
>>>>>>> 54c39a9b9f13390be93d05575020eb27589e0ee3
    "    user_avg = ratings[['UserID','Rating']].iloc[trainid].groupby(['UserID']).mean()\n",
    "    item_avg = ratings[['MovieID','Rating']].iloc[trainid].groupby(['MovieID']).mean()\n",
    " \n",
    "    global_avg_pred = []\n",
    "    user_avg_pred = []\n",
    "    item_avg_pred = []\n",
    "    \n",
    "    for x in testid:\n",
    "       \n",
    "        # predicting using global average\n",
    "        global_avg_pred.append(global_avg)\n",
    "    \n",
    "        # predicting using user average\n",
<<<<<<< HEAD
    "        if ratings['UserID'][x] in user_avg.index.tolist():\n",
    "            user_rating = user_avg.loc[ratings['UserID'][x]]\n",
    "            user_avg_pred.append(user_rating[0])\n",
    "        else: user_avg_pred.append(global_avg)\n",
    "        \n",
    "        # predicting using item average\n",
    "        if ratings['MovieID'][x] in item_avg.index.tolist():\n",
    "            item_rating = item_avg.loc[ratings['MovieID'][x]]\n",
    "            item_avg_pred.append(item_rating[0])\n",
    "        else: item_avg_pred.append(global_avg)\n",
    "\n",
    "    rmseglobalavg.append(math.sqrt(mean_squared_error(y_test, global_avg_pred)))\n",
    "    maeglobalavg.append(mean_absolute_error(y_test, global_avg_pred))\n",
    "    \n",
    "    rmseuseravg.append(math.sqrt(mean_squared_error(y_test,user_avg_pred)))\n",
    "    maeuseravg.append(mean_absolute_error(y_test, user_avg_pred))\n",
    "    \n",
    "    rmseitemavg.append(math.sqrt(mean_squared_error(y_test, item_avg_pred)))\n",
    "    maeitemavg.append(mean_absolute_error(y_test, item_avg_pred))\n",
    "\n",
    "print('global rmse: ', sum(rmseglobalavg)/len(rmseglobalavg))\n",
    "print('global mae: ', sum(maeglobalavg)/len(maeglobalavg))\n",
    "print('user rmse: ', sum(rmseuseravg)/len(rmseuseravg))\n",
    "print('user mae: ', sum(maeuseravg)/len(maeuseravg))\n",
    "print('item rmse: ', sum(rmseitemavg)/len(rmseitemavg))\n",
    "print('item mae: ', sum(rmseitemavg)/len(maeitemavg))\n"
   ]
  },
  {
   "cell_type": "code",
   "execution_count": 54,
   "id": "27c88097",
   "metadata": {},
   "outputs": [
    {
     "name": "stdout",
     "output_type": "stream",
     "text": [
      "model 1 rmse:  2.594056502010988\n",
      "model 1 mae:  2.308893299827645\n",
      "model 2 rmse:  1.121259740322577\n",
      "model 2 mae:  0.9381919125418448\n",
      "model 1 rmse:  1.9008323938990948\n",
      "model 1 mae:  1.5939250451705749\n",
      "model 2 rmse:  1.1256128891853572\n",
      "model 2 mae:  0.93902034588881\n",
      "model 1 rmse:  1.613385366181772\n",
      "model 1 mae:  1.3315984136700838\n",
      "model 2 rmse:  1.1066897781565865\n",
      "model 2 mae:  0.9242160160918663\n",
      "model 1 rmse:  1.5182692200456613\n",
      "model 1 mae:  1.2333623778367\n",
      "model 2 rmse:  1.108556981531058\n",
      "model 2 mae:  0.9222857710619399\n",
      "model 1 rmse:  2.006546549265877\n",
      "model 1 mae:  1.608465803222887\n",
      "model 2 rmse:  1.1125908096197705\n",
      "model 2 mae:  0.9309916459805792\n"
     ]
    }
   ],
   "source": [
    "for trainid, testid in kf.split(ratings):\n",
    "    \n",
    "    X_train = ratings[['UserID','MovieID']].iloc[trainid]\n",
    "    X_test = ratings[['UserID','MovieID']].iloc[testid]\n",
    "    y_train = ratings['Rating'].iloc[trainid]\n",
    "    y_test = ratings['Rating'].iloc[testid]\n",
    "    \n",
    "    global_avg = ratings['Rating'][trainid].mean()\n",
    "    user_avg = ratings[['UserID','Rating']].iloc[trainid].groupby(['UserID']).mean()\n",
    "    item_avg = ratings[['MovieID','Rating']].iloc[trainid].groupby(['MovieID']).mean()\n",
    "    \n",
    "    # predicting using alpha*user + beta*item\n",
    "    model1 = LinearRegression(fit_intercept = False)\n",
    "    model1.fit(X_train, y_train)\n",
    "    pred1 = model1.predict(X_test)\n",
    "    \n",
    "    # predicting using alpha*user + beta*item + gamma\n",
    "    model2 = LinearRegression()\n",
    "    model2.fit(X_train, y_train)\n",
    "    pred2 = model2.predict(X_test)\n",
    "    \n",
    "    print('model 1 rmse: ', (math.sqrt(mean_squared_error(y_test, pred1))))\n",
    "    print('model 1 mae: ', (mean_absolute_error(y_test, pred1)))\n",
    "    print('model 2 rmse: ', (math.sqrt(mean_squared_error(y_test, pred2))))\n",
    "    print('model 2 mae: ', (mean_absolute_error(y_test, pred2)))\n",
    " "
=======
    "        user_rating = user_avg.loc[user_avg.index == ratings['UserID'][x]]\n",
    "        user_avg_pred.append(user_rating)\n",
    "        \n",
    "        # predicting using item average\n",
    "        item_avg_pred.append(item_avg.loc[item_avg.index == ratings['MovieID'][x]])    \n",
    "    \n",
    "    print(user_avg_pred)\n",
    "    rmseglobalavg.append(math.sqrt(mean_squared_error(ratings['Rating'][testid], global_avg_pred)))\n",
    "    maeglobalavg.append(mean_absolute_error(ratings['Rating'][testid], global_avg_pred))\n",
    "    \n",
    "    rmseuseravg.append(math.sqrt(mean_squared_error(ratings['Rating'][testid], user_avg_pred)))\n",
    "    maeuseravg.append(mean_absolute_error(ratings['Rating'][testid], user_avg_pred))\n",
    "    \n",
    "    rmseitemavg.append(math.sqrt(mean_squared_error(ratings['Rating'][testid], item_avg_pred)))\n",
    "    maeitemavg.append(mean_absolute_error(ratings['Rating'][testid], item_avg_pred))\n",
    "    \n",
    "print(sum(rmseglobalavg)/len(rmseglobalavg))\n",
    "print(sum(maeglobalavg)/len(rmseglobalavg))\n",
    "print(sum(rmseuseravg)/len(rmseuseravg))\n",
    "print(sum(maeuseravg)/len(rmseuseravg))\n",
    "print(sum(rmseitemavg)/len(rmseitemavg))\n",
    "print(sum(rmseitemavg)/len(rmseitemavg))\n"
>>>>>>> 54c39a9b9f13390be93d05575020eb27589e0ee3
   ]
  },
  {
   "cell_type": "code",
   "execution_count": null,
<<<<<<< HEAD
   "id": "08b37f78",
=======
   "id": "27c88097",
>>>>>>> 54c39a9b9f13390be93d05575020eb27589e0ee3
   "metadata": {},
   "outputs": [],
   "source": []
  }
 ],
 "metadata": {
  "kernelspec": {
   "display_name": "Python 3 (ipykernel)",
   "language": "python",
   "name": "python3"
  },
  "language_info": {
   "codemirror_mode": {
    "name": "ipython",
    "version": 3
   },
   "file_extension": ".py",
   "mimetype": "text/x-python",
   "name": "python",
   "nbconvert_exporter": "python",
   "pygments_lexer": "ipython3",
   "version": "3.9.7"
  }
 },
 "nbformat": 4,
 "nbformat_minor": 5
}
